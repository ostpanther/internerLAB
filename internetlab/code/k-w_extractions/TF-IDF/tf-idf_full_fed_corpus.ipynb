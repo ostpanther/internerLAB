{
 "cells": [
  {
   "cell_type": "code",
   "execution_count": 4,
   "metadata": {},
   "outputs": [
    {
     "data": {
      "text/plain": [
       "'Концепция формирования информационного общества в России'"
      ]
     },
     "execution_count": 4,
     "metadata": {},
     "output_type": "execute_result"
    }
   ],
   "source": [
    "from sklearn.feature_extraction.text import TfidfVectorizer\n",
    "from nltk.corpus import stopwords\n",
    "import json\n",
    "\n",
    "def load_data(file):\n",
    "    with open (file, \"r\", encoding=\"utf-8\") as f:\n",
    "        data = json.load(f)\n",
    "    return (data)\n",
    "\n",
    "def write_data(file, data):\n",
    "    with open (file, \"w\", encoding=\"utf-8\") as f:\n",
    "        json.dump(data, f, indent=4)\n",
    "\n",
    "path_json = '/Users/gleb/Desktop/InternetLab/internetlab/docs/clean_docs/clean_fed.json'\n",
    "\n",
    "title = load_data(path_json)[\"title\"]\n",
    "content = load_data(path_json)[\"text\"]\n",
    "\n",
    "title[1]"
   ]
  },
  {
   "cell_type": "code",
   "execution_count": 18,
   "metadata": {},
   "outputs": [],
   "source": [
    "# tf-idf\n",
    "\n",
    "vectorizer = TfidfVectorizer(\n",
    "    lowercase=True,\n",
    "    max_features=100,\n",
    "    max_df=0.8, # рейтинг слов больше 80% будут игнорироваться\n",
    "    min_df=3, # слова которые появляются реже 3 раз - игнорируются\n",
    "    ngram_range = (2,4), # n-gram от одного слова до фразы из 3х\n",
    "    stop_words = stopwords.words('russian')\n",
    ")\n",
    "\n",
    "vectors = vectorizer.fit_transform(content)\n",
    "\n",
    "features_name = vectorizer.get_feature_names_out() \n",
    "\n",
    "dense = vectors.todense()\n",
    "denselist = dense.tolist()\n",
    "\n",
    "all_keywords = []\n",
    "\n",
    "for desc in denselist:\n",
    "    x=0\n",
    "    keywords = []\n",
    "    for word in desc:\n",
    "        if word > 0:\n",
    "            keywords.append(features_name[x])\n",
    "        x +=1\n",
    "    all_keywords.append(keywords)"
   ]
  },
  {
   "cell_type": "code",
   "execution_count": 21,
   "metadata": {},
   "outputs": [],
   "source": [
    "with open (\"/Users/gleb/Desktop/InternetLab/internetlab/docs/clean_docs/f_f_c_tf_results\", \"w\", encoding=\"utf-8\") as d:\n",
    "    for i, j in enumerate(all_keywords):\n",
    "        d.write('\\n')\n",
    "        d.write(f'- - - {title[i].upper()} - - - ')    \n",
    "        d.write('\\n')\n",
    "        for w in range(len(j)):\n",
    "            d.write(all_keywords[i][w])\n",
    "            d.write('\\n')"
   ]
  },
  {
   "cell_type": "markdown",
   "metadata": {},
   "source": [
    "во всех документах упоминается безопасность гос-ва"
   ]
  }
 ],
 "metadata": {
  "kernelspec": {
   "display_name": "venv",
   "language": "python",
   "name": "python3"
  },
  "language_info": {
   "codemirror_mode": {
    "name": "ipython",
    "version": 3
   },
   "file_extension": ".py",
   "mimetype": "text/x-python",
   "name": "python",
   "nbconvert_exporter": "python",
   "pygments_lexer": "ipython3",
   "version": "3.12.1"
  }
 },
 "nbformat": 4,
 "nbformat_minor": 2
}
