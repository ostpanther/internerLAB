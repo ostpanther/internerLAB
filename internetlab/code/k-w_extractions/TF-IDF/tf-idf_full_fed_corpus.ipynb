{
 "cells": [
  {
   "cell_type": "code",
   "execution_count": 3,
   "metadata": {},
   "outputs": [
    {
     "data": {
      "text/plain": [
       "'Концепция формирования информационного общества в россии'"
      ]
     },
     "execution_count": 3,
     "metadata": {},
     "output_type": "execute_result"
    }
   ],
   "source": [
    "# загрузка \n",
    "\n",
    "import pandas as pd\n",
    "from sklearn.feature_extraction.text import TfidfVectorizer\n",
    "from nltk.corpus import stopwords\n",
    "import json\n",
    "\n",
    "def load_data(file):\n",
    "    with open (file, \"r\", encoding=\"utf-8\") as f:\n",
    "        data = json.load(f)\n",
    "    return (data)\n",
    "\n",
    "def write_data(file, data):\n",
    "    with open (file, \"w\", encoding=\"utf-8\") as f:\n",
    "        json.dump(data, f, indent=4)\n",
    "\n",
    "path_json = '/Users/gleb/Desktop/internerLAB/internetlab/docs/clean_docs/clean_fed.json'\n",
    "\n",
    "title = [i.capitalize() for i in load_data(path_json)[\"title\"]]\n",
    "content = load_data(path_json)[\"text\"]\n",
    "\n",
    "title[1]"
   ]
  },
  {
   "cell_type": "code",
   "execution_count": 4,
   "metadata": {},
   "outputs": [],
   "source": [
    "# tf-idf\n",
    "\n",
    "vectorizer = TfidfVectorizer(\n",
    "    lowercase=True,\n",
    "    max_features=100, # тут топ частотность, т.е от самого частого к менее\n",
    "    max_df=0.8, # рейтинг слов больше 80% будут игнорироваться\n",
    "    min_df=3, # слова которые появляются реже 3 раз - игнорируются\n",
    "    ngram_range = (2,4), # n-gram от n слова до фразы из m\n",
    "    stop_words = stopwords.words('russian')\n",
    ")\n",
    "\n",
    "vectors = vectorizer.fit_transform(content)\n",
    "\n",
    "features_name = vectorizer.get_feature_names_out() \n",
    "\n",
    "dense = vectors.todense() # -> matrix\n",
    "denselist = dense.tolist() # -> list-matrix\n"
   ]
  },
  {
   "cell_type": "code",
   "execution_count": 5,
   "metadata": {},
   "outputs": [],
   "source": [
    "# загрузка k-w\n",
    "\n",
    "# финальный список \n",
    "all_keywords = []\n",
    "\n",
    "# в данном цикле проверяется частотность слова/фраз из вектора. Если из итоговый рейтинг > 0 то это k-words\n",
    "for desc in denselist:\n",
    "    x=0\n",
    "    keywords = list(set([]))\n",
    "    for word in desc:\n",
    "        if word > 0:\n",
    "            keywords.append(features_name[x])\n",
    "        x +=1\n",
    "    all_keywords.append(keywords)    \n",
    "    \n",
    "# # код который я не смог реализовать правильно, чтобы он считал k-w по всем документам (считает только по первому)\n",
    "\n",
    "# счетчик k-w по каждому доку\n",
    "# keyword_counts = {}\n",
    "\n",
    "# # финальный список всех k-w по всем докам\n",
    "# f_list = []\n",
    "\n",
    "# for desc in denselist:\n",
    "#     keywords_in_doc = set()\n",
    "#     for ind, word in enumerate(desc):\n",
    "#         if word > 0:\n",
    "#             keyword = features_name[ind]\n",
    "#             if keyword not in keywords_in_doc:\n",
    "#                 keyword_counts[keyword] = keyword_counts.get(keyword, 0) + 1\n",
    "#                 keywords_in_doc.add(keyword)\n",
    "                \n",
    "#     f_list.append(keyword_counts)\n",
    "#     keywords_in_doc = {}"
   ]
  },
  {
   "cell_type": "code",
   "execution_count": 6,
   "metadata": {},
   "outputs": [],
   "source": [
    "# кастомное решение поиска k-w с помощью обычного метода count() !рузультаты отличаются, они не совсем верные! \n",
    "\n",
    "def count_keyword_occurrences(content, all_keywords):\n",
    "    keyword_counts = []\n",
    "    \n",
    "    for i, doc in enumerate(content):\n",
    "        keywords = all_keywords[i]\n",
    "        temp = []\n",
    "        for keyword in keywords:\n",
    "            counter = doc.lower().count(keyword)\n",
    "            temp.append(counter)\n",
    "        keyword_counts.append(temp)\n",
    "\n",
    "    return keyword_counts\n",
    "\n",
    "# здесь форматирую матрицу в обычный массив\n",
    "kw_counter = count_keyword_occurrences(content, all_keywords)\n",
    "kw_count = []\n",
    "for i in kw_counter:\n",
    "    for j in i:\n",
    "        kw_count.append(j)"
   ]
  },
  {
   "cell_type": "markdown",
   "metadata": {},
   "source": [
    "### df"
   ]
  },
  {
   "cell_type": "code",
   "execution_count": 7,
   "metadata": {},
   "outputs": [],
   "source": [
    "# df по k-word \n",
    "data = [[title, kw] for title, content_list in zip(title, all_keywords) for kw in content_list]\n",
    "df = pd.DataFrame(data, columns=['title', 'k-word'])\n",
    "df['appearance']= kw_count"
   ]
  },
  {
   "cell_type": "code",
   "execution_count": 8,
   "metadata": {},
   "outputs": [
    {
     "data": {
      "text/html": [
       "<div>\n",
       "<style scoped>\n",
       "    .dataframe tbody tr th:only-of-type {\n",
       "        vertical-align: middle;\n",
       "    }\n",
       "\n",
       "    .dataframe tbody tr th {\n",
       "        vertical-align: top;\n",
       "    }\n",
       "\n",
       "    .dataframe thead th {\n",
       "        text-align: right;\n",
       "    }\n",
       "</style>\n",
       "<table border=\"1\" class=\"dataframe\">\n",
       "  <thead>\n",
       "    <tr style=\"text-align: right;\">\n",
       "      <th></th>\n",
       "      <th>title</th>\n",
       "      <th>k-word</th>\n",
       "      <th>appearance</th>\n",
       "    </tr>\n",
       "  </thead>\n",
       "  <tbody>\n",
       "    <tr>\n",
       "      <th>0</th>\n",
       "      <td>Стратегия развития информационного общества в ...</td>\n",
       "      <td>безопасности государства</td>\n",
       "      <td>2</td>\n",
       "    </tr>\n",
       "    <tr>\n",
       "      <th>1</th>\n",
       "      <td>Стратегия развития информационного общества в ...</td>\n",
       "      <td>государственного управления</td>\n",
       "      <td>5</td>\n",
       "    </tr>\n",
       "    <tr>\n",
       "      <th>2</th>\n",
       "      <td>Стратегия развития информационного общества в ...</td>\n",
       "      <td>государственной власти</td>\n",
       "      <td>12</td>\n",
       "    </tr>\n",
       "    <tr>\n",
       "      <th>3</th>\n",
       "      <td>Стратегия развития информационного общества в ...</td>\n",
       "      <td>государственных муниципальных</td>\n",
       "      <td>1</td>\n",
       "    </tr>\n",
       "    <tr>\n",
       "      <th>4</th>\n",
       "      <td>Стратегия развития информационного общества в ...</td>\n",
       "      <td>государственных муниципальных услуг</td>\n",
       "      <td>1</td>\n",
       "    </tr>\n",
       "    <tr>\n",
       "      <th>5</th>\n",
       "      <td>Стратегия развития информационного общества в ...</td>\n",
       "      <td>государственных органов</td>\n",
       "      <td>10</td>\n",
       "    </tr>\n",
       "    <tr>\n",
       "      <th>6</th>\n",
       "      <td>Стратегия развития информационного общества в ...</td>\n",
       "      <td>законодательства российской</td>\n",
       "      <td>2</td>\n",
       "    </tr>\n",
       "    <tr>\n",
       "      <th>7</th>\n",
       "      <td>Стратегия развития информационного общества в ...</td>\n",
       "      <td>законодательства российской федерации</td>\n",
       "      <td>2</td>\n",
       "    </tr>\n",
       "    <tr>\n",
       "      <th>8</th>\n",
       "      <td>Стратегия развития информационного общества в ...</td>\n",
       "      <td>защите прав</td>\n",
       "      <td>1</td>\n",
       "    </tr>\n",
       "    <tr>\n",
       "      <th>9</th>\n",
       "      <td>Стратегия развития информационного общества в ...</td>\n",
       "      <td>защиты информации</td>\n",
       "      <td>4</td>\n",
       "    </tr>\n",
       "  </tbody>\n",
       "</table>\n",
       "</div>"
      ],
      "text/plain": [
       "                                               title  \\\n",
       "0  Стратегия развития информационного общества в ...   \n",
       "1  Стратегия развития информационного общества в ...   \n",
       "2  Стратегия развития информационного общества в ...   \n",
       "3  Стратегия развития информационного общества в ...   \n",
       "4  Стратегия развития информационного общества в ...   \n",
       "5  Стратегия развития информационного общества в ...   \n",
       "6  Стратегия развития информационного общества в ...   \n",
       "7  Стратегия развития информационного общества в ...   \n",
       "8  Стратегия развития информационного общества в ...   \n",
       "9  Стратегия развития информационного общества в ...   \n",
       "\n",
       "                                  k-word  appearance  \n",
       "0               безопасности государства           2  \n",
       "1            государственного управления           5  \n",
       "2                 государственной власти          12  \n",
       "3          государственных муниципальных           1  \n",
       "4    государственных муниципальных услуг           1  \n",
       "5                государственных органов          10  \n",
       "6            законодательства российской           2  \n",
       "7  законодательства российской федерации           2  \n",
       "8                            защите прав           1  \n",
       "9                      защиты информации           4  "
      ]
     },
     "execution_count": 8,
     "metadata": {},
     "output_type": "execute_result"
    }
   ],
   "source": [
    "# df.iloc[95:105]\n",
    "df.head(10)"
   ]
  },
  {
   "cell_type": "code",
   "execution_count": 9,
   "metadata": {},
   "outputs": [],
   "source": [
    "df.to_csv('k-w_table.csv', index=False, encoding='UTF-16')"
   ]
  },
  {
   "cell_type": "code",
   "execution_count": 21,
   "metadata": {},
   "outputs": [],
   "source": [
    "# загрзка в док\n",
    "with open (\"/Users/gleb/Desktop/InternetLab/internetlab/docs/clean_docs/f_f_c_tf_results\", \"w\", encoding=\"utf-8\") as d:\n",
    "    for i, j in enumerate(all_keywords):\n",
    "        d.write('\\n')\n",
    "        d.write(f'- - - {title[i].upper()} - - - ')    \n",
    "        d.write('\\n')\n",
    "        for w in range(len(j)):\n",
    "            d.write(all_keywords[i][w])\n",
    "            d.write('\\n')"
   ]
  }
 ],
 "metadata": {
  "kernelspec": {
   "display_name": "venv",
   "language": "python",
   "name": "python3"
  },
  "language_info": {
   "codemirror_mode": {
    "name": "ipython",
    "version": 3
   },
   "file_extension": ".py",
   "mimetype": "text/x-python",
   "name": "python",
   "nbconvert_exporter": "python",
   "pygments_lexer": "ipython3",
   "version": "3.12.1"
  }
 },
 "nbformat": 4,
 "nbformat_minor": 2
}
