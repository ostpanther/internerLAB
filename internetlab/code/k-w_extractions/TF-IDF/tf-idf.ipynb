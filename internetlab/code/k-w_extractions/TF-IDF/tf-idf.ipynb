{
 "cells": [
  {
   "cell_type": "markdown",
   "metadata": {},
   "source": [
    "вывод: TF-idf лучше подходит для собрания из коротких текстов"
   ]
  },
  {
   "cell_type": "code",
   "execution_count": 1,
   "metadata": {},
   "outputs": [],
   "source": [
    "# импорт всего\n",
    "from sklearn.feature_extraction.text import TfidfVectorizer\n",
    "from sklearn.cluster import KMeans \n",
    "from sklearn.metrics import adjusted_rand_score \n",
    "import string\n",
    "from nltk.corpus import stopwords\n",
    "import json\n",
    "import glob\n",
    "import re \n"
   ]
  },
  {
   "cell_type": "markdown",
   "metadata": {},
   "source": [
    "1."
   ]
  },
  {
   "cell_type": "code",
   "execution_count": 2,
   "metadata": {},
   "outputs": [],
   "source": [
    "def load_data(file):\n",
    "    with open (file, \"r\", encoding=\"utf-8\") as f:\n",
    "        data = json.load(f)\n",
    "    return (data)\n",
    "\n",
    "def write_data(file, data):\n",
    "    with open (file, \"w\", encoding=\"utf-8\") as f:\n",
    "        json.dump(data, f, indent=4)"
   ]
  },
  {
   "cell_type": "code",
   "execution_count": 47,
   "metadata": {},
   "outputs": [],
   "source": [
    "# импорт файл\n",
    "text = load_data(\"/Users/gleb/Desktop/InternetLab/internetlab/docs/clean_docs/lst.json\")[\"text\"]\n",
    "title = load_data(\"/Users/gleb/Desktop/InternetLab/internetlab/docs/clean_docs/lst.json\")[\"title\"]"
   ]
  },
  {
   "cell_type": "code",
   "execution_count": 50,
   "metadata": {},
   "outputs": [
    {
     "name": "stdout",
     "output_type": "stream",
     "text": [
      "4\n"
     ]
    }
   ],
   "source": [
    "# tf-idf\n",
    "\n",
    "vectorizer = TfidfVectorizer(\n",
    "    lowercase=True,\n",
    "    max_features=100,\n",
    "    max_df=0.8, # рейтинг слов больше 80% будут игнорироваться\n",
    "    min_df=3, # слова которые появляются реже 3 раз - игнорируются\n",
    "    ngram_range = (1,3), # n-gram от одного слова до фразы из 3х\n",
    "    stop_words = stopwords.words('russian')\n",
    ")\n",
    "\n",
    "vectors = vectorizer.fit_transform(text)\n",
    "\n",
    "features_name = vectorizer.get_feature_names_out() \n",
    "\n",
    "dense = vectors.todense()\n",
    "denselist = dense.tolist()\n",
    "\n",
    "all_keywords = []\n",
    "\n",
    "for desc in denselist:\n",
    "    x=0\n",
    "    keywords = []\n",
    "    for word in desc:\n",
    "        if word > 0:\n",
    "            keywords.append(features_name[x])\n",
    "        x +=1\n",
    "    all_keywords.append(keywords)\n",
    "\n",
    "\n",
    "# for i in all_keywords:\n",
    "#     print(i)\n",
    "print(len(all_keywords))"
   ]
  },
  {
   "cell_type": "code",
   "execution_count": 51,
   "metadata": {},
   "outputs": [],
   "source": [
    "# запись ключевых слов в файл\n",
    "with open (\"/Users/gleb/Desktop/InternetLab/internetlab/docs/clean_docs/attemptlast.txt \", \"w\", encoding=\"utf-8\") as d:\n",
    "    for i,l in enumerate(all_keywords):\n",
    "        d.write('---')\n",
    "        d.write('\\n')\n",
    "        for w in range(len(l)):\n",
    "            d.write(all_keywords[i][w])\n",
    "            d.write('\\n')"
   ]
  },
  {
   "cell_type": "code",
   "execution_count": 53,
   "metadata": {},
   "outputs": [],
   "source": [
    "# кластеризация\n",
    "\n",
    "true_k = 4 #кол-во класстеров\n",
    "\n",
    "model = KMeans(n_clusters=true_k, init=\"k-means++\", max_iter=100, n_init=1)\n",
    "\n",
    "model.fit(vectors)\n",
    "\n",
    "order_centroids = model.cluster_centers_.argsort()[:, ::-1]\n",
    "terms = vectorizer.get_feature_names_out()\n",
    "\n",
    "with open (\"/Users/gleb/Desktop/InternetLab/internetlab/docs/clean_docs/jopaK-means_attempt_1.txt \", \"w\", encoding=\"utf-8\") as f:\n",
    "    for i in range(true_k):\n",
    "        f.write(f\"Cluster {i}\")\n",
    "        f.write(\"\\n\")\n",
    "        for ind in order_centroids[i, :10]:\n",
    "            f.write (' %s' % terms[ind],)\n",
    "            f.write(\"\\n\")\n",
    "        f.write(\"\\n\")\n",
    "        f.write(\"\\n\")"
   ]
  },
  {
   "cell_type": "markdown",
   "metadata": {},
   "source": [
    "попытка 2\n"
   ]
  },
  {
   "cell_type": "code",
   "execution_count": 1,
   "metadata": {},
   "outputs": [],
   "source": [
    "# разбиение всего докумена на обзацы по римским цифрам\n",
    "import re\n",
    "        \n",
    "with open(\"/Users/gleb/Desktop/internet_lab_project/docs/Stratagy_2017-2030_years/1.txt\", \"r\", encoding='utf-8') as file:\n",
    "    lines = file.readlines()\n",
    "    \n",
    "result = []\n",
    "current_line = \"\"\n",
    "\n",
    "for line in lines:\n",
    "    if re.search(r'[IVXLCDM]+', line):\n",
    "        if current_line:\n",
    "            result.append(current_line)\n",
    "            current_line = line.strip()\n",
    "        else:\n",
    "            current_line = line.strip()\n",
    "    else:\n",
    "        current_line += \" \" + line.strip()\n",
    "\n",
    "result.append(current_line) \n",
    "\n",
    "with open(\"/Users/gleb/Desktop/internet_lab_project/docs/Stratagy_2017-2030_years/edited.txt\", \"w\", encoding='utf-8') as file:\n",
    "    for line in result:\n",
    "        file.write(line + \"\\n\")"
   ]
  },
  {
   "cell_type": "code",
   "execution_count": 4,
   "metadata": {},
   "outputs": [
    {
     "data": {
      "text/plain": [
       "' УКАЗ ПРЕЗИДЕНТА РОССИЙСКОЙ ФЕДЕРАЦИИ О Стратегии развития информационного общества в Российской Федерации на 2017 - 2030 годы В целях обеспечения условий для формирования в Российской Федерации общества знаний постановляю: 1. Утвердить\\tприлагаемую Стратегию развития информационного общества в Российской Федерации на 2017 - 2030 годы. 2.\\tПравительству Российской Федерации утвердить до 1 октября 2017 г. перечень показателей реализации Стратегии развития информационного общества в Российской Федерации на 2017 - 2030 годы (далее - Стратегия) и план ее реализации. 3.\\tПравительству Российской Федерации в 6-месячный срок: а)\\tвнести изменения в документы стратегического планирования в соответствии со Стратегией; б)\\tобеспечить внесение изменений в документы стратегического планирования федеральных органов исполнительной власти в соответствии со Стратегией. 4.\\tРекомендовать органам государственной власти субъектов Российской Федерации и органам местного самоуправления внести изменения в документы стратегического планирования в соответствии со Стратегией. 5.\\tПризнать утратившей силу Стратегию развития информационного общества в Российской Федерации, утвержденную Президентом Российской Федерации 7 февраля 2008 г. № Пр-212. 6.\\tНастоящий Указ вступает в силу со дня его подписания. Москва, Кремль 9 мая 2017 года №203 УТВЕРЖДЕНА Указом Президента Российской Федерации от 9 мая 2017 г. № 203 СТРАТЕГИЯ развития информационного общества в Российской Федерации на 2017 - 2030 годы\\n'"
      ]
     },
     "execution_count": 4,
     "metadata": {},
     "output_type": "execute_result"
    }
   ],
   "source": [
    "#2\n",
    "\n",
    "file = open(\"/Users/gleb/Desktop/internet_lab_project/docs/Stratagy_2017-2030_years/edited.txt\", \"r\", encoding='utf-8')\n",
    "file = [i for i in file]\n",
    "file[0]"
   ]
  },
  {
   "cell_type": "code",
   "execution_count": 5,
   "metadata": {},
   "outputs": [
    {
     "data": {
      "text/plain": [
       "'II Россия современном информационном обществе  Международные принципы создания информационного общества подходы созданию определены Окинавской хартией глобального информационного общества  год Декларацией принципов Построение информационного общества  глобальная задача новом тысячелетии  год Планом действий Тунисского обязательства  год  Первым стратегическим документом определившим направления развития информационного общества России стала Стратегия развития информационного общества Российской Федерации утвержденная Президентом Российской Федерации Она положила начало интенсивному использованию органами государственной власти Российской Федерации бизнесом гражданами информационных коммуникационных технологий  Электронные средства массовой информации информационные системы социальные сети доступ которым осуществляется использованием сети Интернет стали частью повседневной жизни россиян Пользователями российского сегмента сети Интернет  году стали  млн человек  России информационное общество характеризуется широким распространением доступностью мобильных устройств  среднем одного россиянина приходится абонентских номера мобильной связи также беспроводных технологий сетей связи Создана система предоставления государственных муниципальных услуг электронной форме которой подключились  млн россиян Граждане имеют возможность направить электронной форме индивидуальные коллективные обращения государственные органы органы местного самоуправления  России  года осуществляется подключение населенных пунктов населением   человек сети Интернет результате  млн граждан России проживающих  тыс таких малонаселенных пунктов получат доступ сети Интернет  Информационные коммуникационные технологии оказывают существенное влияние развитие традиционных отраслей экономики Объем реализации товаров услуг россиянам использованием сети Интернет  году достиг эквивалента  процента валового внутреннего продукта имеет тенденцию росту  Информационные коммуникационные технологии стали частью современных управленческих систем отраслях экономики сферах государственного управления обороны страны безопасности государства обеспечения правопорядка  России наряду задачей обеспечения всеобщего доступа информационным коммуникационным технологиям актуальной является проблема интенсификации использования самих технологий Технологии созданные основе передовых знаний нано биотехнологии оптические технологии искусственный интеллект альтернативные источники энергии становятся доступными  Развитие технологий сбора анализа данных обмена ими управления производственными процессами осуществляется основе внедрения когнитивных технологий конвергенции нано биотехнологиями Значительное увеличение объема данных источниками средствами распространения которых являются промышленные социальные объекты различные электронные устройства приводит формированию новых технологий Повсеместное применение таких технологий способствует развитию нового этапа экономики  цифровой экономики образованию экосистемы  Главным способом обеспечения эффективности цифровой экономики становится внедрение технологии обработки данных позволит уменьшить затраты производстве товаров оказании услуг  Конкурентным преимуществом мировом рынке обладают государства отрасли экономики которых основываются технологиях анализа больших объемов данных Такие технологии активно используются России основаны зарубежных разработках Отечественные аналоги настоящее время отсутствуют Повсеместное внедрение иностранных информационных коммуникационных технологий числе объектах критической информационной инфраструктуры усложняет решение задачи обеспечению защиты интересов граждан государства информационной сфере использованием сети Интернет чаще совершаются компьютерные атаки государственные частные информационные ресурсы объекты критической информационной инфраструктуры  Темпы развития технологий создания обработки распространения информации значительно превысили возможности большинства людей освоении применении знаний Смещение акцентов восприятии окружающего мира особенно сети Интернет научного образовательного культурного развлекательносправочный сформировало новую модель восприятия  называемое клиповое мышление характерной особенностью которого является массовое поверхностное восприятие информации Такая форма освоения информации упрощает влияние взгляды предпочтения людей способствует формированию навязанных моделей поведения дает преимущество достижении экономических политических целей государствам организациям которым принадлежат технологии распространения информации  Международноправовые механизмы позволяющие отстаивать суверенное право государств регулирование информационного пространства числе национальном сегменте сети Интернет установлены Большинство государств вынуждены на ходу адаптировать государственное регулирование сферы информации информационных технологий новым обстоятельствам  Усилия многих государств направлены приоритетное развитие национальной информационной инфраструктуры ущерб формированию распространению знаний полной мере соответствует целям продекларированным Всемирной встрече высшем уровне вопросам информационного общества проходившей Женеве  году  Российское общество заинтересовано получении информации соответствующей высокому интеллектуальному культурному уровню развития граждан России'"
      ]
     },
     "execution_count": 5,
     "metadata": {},
     "output_type": "execute_result"
    }
   ],
   "source": [
    "cleaned_docs = clean_docs(file)\n",
    "cleaned_docs[2]\n"
   ]
  },
  {
   "cell_type": "code",
   "execution_count": 6,
   "metadata": {},
   "outputs": [
    {
     "name": "stdout",
     "output_type": "stream",
     "text": [
      "7\n"
     ]
    }
   ],
   "source": [
    "# tf-idf\n",
    "\n",
    "vectorizer = TfidfVectorizer(\n",
    "    lowercase=True,\n",
    "    max_features=100,\n",
    "    max_df=0.7, # рейтинг слов больше 80% будут игнорироваться\n",
    "    #min_df=3, # слова которые появляются реже 3 раз - игнорируются\n",
    "    ngram_range = (2,3), # n-gram от одного слова до фразы из 3х\n",
    "    stop_words = stopwords.words('russian')\n",
    ")\n",
    "\n",
    "vectors = vectorizer.fit_transform(cleaned_docs)\n",
    "\n",
    "features_name = vectorizer.get_feature_names_out() \n",
    "\n",
    "dense = vectors.todense()\n",
    "denselist = dense.tolist()\n",
    "\n",
    "all_keywords = []\n",
    "\n",
    "for w in denselist:\n",
    "    x=0\n",
    "    keywords = []\n",
    "    for word in w:\n",
    "        if word > 0:\n",
    "            keywords.append(features_name[x])\n",
    "        x +=1\n",
    "    all_keywords.append(keywords)\n",
    "\n",
    "\n",
    "# for i in all_keywords:\n",
    "#     print(i)\n",
    "print(len(all_keywords))"
   ]
  },
  {
   "cell_type": "code",
   "execution_count": 37,
   "metadata": {},
   "outputs": [],
   "source": [
    "# keywords to file\n",
    "with open (\"/Users/gleb/Desktop/internet_lab_project/code/k-w_extractions/TF-IDF/results/attempt2.txt \", \"w\", encoding=\"utf-8\") as d:\n",
    "    for i, j in enumerate(all_keywords):\n",
    "        d.write('---')\n",
    "        d.write('\\n')\n",
    "        for w in range(len(j)):\n",
    "            d.write(all_keywords[i][w])\n",
    "            d.write('\\n')"
   ]
  },
  {
   "cell_type": "markdown",
   "metadata": {},
   "source": [
    "<h2>3</h2>"
   ]
  },
  {
   "cell_type": "code",
   "execution_count": 3,
   "metadata": {},
   "outputs": [
    {
     "data": {
      "text/plain": [
       "'Одобрена решением Государственной комиссии информатизации Государственном комитете Российс'"
      ]
     },
     "execution_count": 3,
     "metadata": {},
     "output_type": "execute_result"
    }
   ],
   "source": [
    "def load_data(file):\n",
    "    with open (file, \"r\", encoding=\"utf-8\") as f:\n",
    "        data = json.load(f) \n",
    "    return (data)\n",
    "\n",
    "def write_data(file, data):\n",
    "    with open (file, \"w\", encoding=\"utf-8\") as f:\n",
    "        json.dump(data, f, indent=4)\n",
    "\n",
    "data = load_data('/Users/gleb/Desktop/internet_lab_project/docs/clean_docs/lst.json')['text']\n",
    "data[0][0:90]"
   ]
  },
  {
   "cell_type": "code",
   "execution_count": 17,
   "metadata": {},
   "outputs": [
    {
     "name": "stdout",
     "output_type": "stream",
     "text": [
      "4\n"
     ]
    }
   ],
   "source": [
    "# tf-idf\n",
    "\n",
    "vectorizer = TfidfVectorizer(\n",
    "    lowercase=True,\n",
    "    max_features=100,\n",
    "    max_df=0.8, # рейтинг слов больше 80% будут игнорироваться\n",
    "    #min_df=3, # слова которые появляются реже 3 раз - игнорируются\n",
    "    ngram_range = (2,4), # n-gram от одного слова до фразы из 3х\n",
    "    stop_words = stopwords.words('russian')\n",
    ")\n",
    "\n",
    "vectors = vectorizer.fit_transform(data)\n",
    "\n",
    "features_name = vectorizer.get_feature_names_out() \n",
    "\n",
    "dense = vectors.todense()\n",
    "denselist = dense.tolist()\n",
    "\n",
    "all_keywords = []\n",
    "\n",
    "for desc in denselist:\n",
    "    x=0\n",
    "    keywords = []\n",
    "    for word in desc:\n",
    "        if word > 0:\n",
    "            keywords.append(features_name[x])\n",
    "        x +=1\n",
    "    all_keywords.append(keywords)\n",
    "\n",
    "\n",
    "# for i in all_keywords:\n",
    "#     print(i)\n",
    "print(len(all_keywords))"
   ]
  },
  {
   "cell_type": "code",
   "execution_count": 18,
   "metadata": {},
   "outputs": [],
   "source": [
    "# keywords to file\n",
    "with open (\"/Users/gleb/Desktop/internet_lab_project/code/k-w_extractions/TF-IDF/results/attempt3.txt \", \"w\", encoding=\"utf-8\") as d:\n",
    "    for i, j in enumerate(all_keywords):\n",
    "        d.write('---')\n",
    "        d.write('\\n')\n",
    "        for w in range(len(j)):\n",
    "            d.write(all_keywords[i][w])\n",
    "            d.write('\\n')"
   ]
  }
 ],
 "metadata": {
  "kernelspec": {
   "display_name": "venv",
   "language": "python",
   "name": "python3"
  },
  "language_info": {
   "codemirror_mode": {
    "name": "ipython",
    "version": 3
   },
   "file_extension": ".py",
   "mimetype": "text/x-python",
   "name": "python",
   "nbconvert_exporter": "python",
   "pygments_lexer": "ipython3",
   "version": "3.12.1"
  }
 },
 "nbformat": 4,
 "nbformat_minor": 2
}
