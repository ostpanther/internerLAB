{
 "cells": [
  {
   "cell_type": "code",
   "execution_count": 57,
   "metadata": {},
   "outputs": [],
   "source": [
    "# вариант очистки данных максимально приближенный к оригиналу \n",
    "import re \n",
    "import os\n",
    "\n",
    "# очистка данных\n",
    "\n",
    "important_symbols = ['№', '-', ')', '(', '.', ',', ':',';', '«', '»', ' ']\n",
    "latin_letters = 'ABCDEFGHIJKLMNOPQRSTUVWXYZabcdefghijklmnopqrstuvwxyz'\n",
    "\n",
    "def cleanser(text):\n",
    " \n",
    "    words = text.split()\n",
    "    final = []\n",
    "    final.append('\\n')\n",
    "    temp = ''\n",
    "\n",
    "    for word in words: \n",
    "        for w in word:\n",
    "            if w not in latin_letters:\n",
    "                if w in important_symbols:\n",
    "                    temp += w\n",
    "                elif w.isalnum():\n",
    "                    temp += w   \n",
    "        final.append(temp)\n",
    "        temp = ''\n",
    "                        \n",
    "    final = \" \".join(final) # склеить список из строк\n",
    "    final = re.sub(r' {1,}', ' ', final) # удалить много пробелов\n",
    "    \n",
    "    return (final)    \n",
    "\n",
    "\n",
    "def clean_docs(docs):\n",
    "    \n",
    "    final_text = []\n",
    "    for i, doc in enumerate(docs):\n",
    "        # if i == 0 or i == 1:    # не трогать название документа\n",
    "        #     final_text.append(doc)\n",
    "        # else:\n",
    "            clean_doc = cleanser(doc)\n",
    "            final_text.append(clean_doc)\n",
    "\n",
    "    return (final_text)"
   ]
  },
  {
   "cell_type": "code",
   "execution_count": 48,
   "metadata": {},
   "outputs": [],
   "source": [
    "file = open('/Users/gleb/Desktop/InternetLab/internetlab/docs/row_docs/row_region/Стратегия_Алтайский_край_2023.txt', 'r', encoding='utf-8')\n",
    "\n",
    "cleaned_docs = clean_docs(file)\n",
    "\n",
    "# запись в файл\n",
    "with open('/Users/gleb/Desktop/InternetLab/internetlab/docs/clean_docs/reg_clean/wdqdqw', \"w\", encoding=\"utf-8\") as d:\n",
    "    for i in cleaned_docs:\n",
    "        d.write(i)"
   ]
  },
  {
   "cell_type": "code",
   "execution_count": 58,
   "metadata": {},
   "outputs": [],
   "source": [
    "r_path = '/Users/gleb/Desktop/InternetLab/internetlab/docs/row_docs/row_region/'\n",
    "c_path = '/Users/gleb/Desktop/InternetLab/internetlab/docs/clean_docs/reg_clean/'\n",
    "\n",
    "raw_doc_list = os.listdir(r_path)\n",
    "clean_doc_list = os.listdir(c_path)\n",
    "for doc in raw_doc_list:\n",
    "    if '.txt' in doc:\n",
    "        file  = open(os.path.join(r_path, doc), 'r', encoding='utf-8')\n",
    "        cleaned_docs = clean_docs(file)\n",
    "        # запись в файл\n",
    "    \n",
    "        document = os.path.join(c_path, 'c_' + doc)\n",
    "        with open(document, \"w\", encoding=\"utf-8\") as d:\n",
    "            for i in cleaned_docs:\n",
    "                d.write(i)\n",
    "        "
   ]
  }
 ],
 "metadata": {
  "kernelspec": {
   "display_name": "venv",
   "language": "python",
   "name": "python3"
  },
  "language_info": {
   "codemirror_mode": {
    "name": "ipython",
    "version": 3
   },
   "file_extension": ".py",
   "mimetype": "text/x-python",
   "name": "python",
   "nbconvert_exporter": "python",
   "pygments_lexer": "ipython3",
   "version": "3.12.1"
  }
 },
 "nbformat": 4,
 "nbformat_minor": 2
}
